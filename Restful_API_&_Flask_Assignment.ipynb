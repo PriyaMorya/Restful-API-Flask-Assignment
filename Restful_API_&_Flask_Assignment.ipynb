{
  "nbformat": 4,
  "nbformat_minor": 0,
  "metadata": {
    "colab": {
      "provenance": []
    },
    "kernelspec": {
      "name": "python3",
      "display_name": "Python 3"
    },
    "language_info": {
      "name": "python"
    }
  },
  "cells": [
    {
      "cell_type": "markdown",
      "source": [
        "#Restful API & Flask"
      ],
      "metadata": {
        "id": "Co53N32chEPD"
      }
    },
    {
      "cell_type": "markdown",
      "source": [
        "1.What is a RESTful AP?\n",
        "  - A RESTful API is an application programming interface (API) that follows the principles of REST (Representational State Transfer) architecture.\n",
        "\n",
        "It uses HTTP methods (GET, POST, PUT, DELETE, etc.).\n",
        "\n",
        "Resources are identified by URLs.\n",
        "\n",
        "Data is usually exchanged in JSON or XML format.\n",
        "\n",
        "It is stateless (each request is independent).\n",
        "\n"
      ],
      "metadata": {
        "id": "8JtZiotJhJJn"
      }
    },
    {
      "cell_type": "markdown",
      "source": [
        "2. Explain the concept of API specification.\n",
        "   - An API Specification is a detailed, structured description of how an API should work. It defines the rules of communication between the client (user, app, or service) and the server (API provider). It describes available endpoints (URLs) and their purposes.\n",
        "\n",
        "It Specifies HTTP methods (GET, POST, PUT, DELETE, etc.) for each endpoint.\n",
        "\n",
        "It Defines input parameters (query params, path params, request body).\n",
        "\n",
        "It Defines response structure (status codes, JSON/XML format).\n",
        "\n",
        "It May also include authentication & security requirements.\n",
        "\n",
        "\n",
        "\n",
        "\n"
      ],
      "metadata": {
        "id": "qjqM6lbrh6Xp"
      }
    },
    {
      "cell_type": "markdown",
      "source": [
        "3. What is Flask, and why is it popular for building APIs?\n",
        "   - Flask is a lightweight, open-source Python web framework.\n",
        "\n",
        "It is often called a “micro-framework” because it does not come with too many built-in tools — you add only what you need using extensions.\n",
        "\n",
        "It is mainly used to build web applications and RESTful APIs.\n",
        "\n",
        "\n",
        "The Flask is Popular for Building APIs , beacuse the reason behind these are:\n",
        "1. Lightweight & Simple – Easy to set up and learn, perfect for beginners.\n",
        "\n",
        "\n",
        "2. Flexibility – Gives developers full control; you can choose your database, authentication method, etc.\n",
        "\n",
        "\n",
        "3. Built-in Routing – Simple to map URLs to Python functions.\n",
        "\n",
        "\n",
        "4. Extensions Available – Like Flask-SQLAlchemy (DB), Flask-RESTful (APIs), Flask-JWT (security).\n",
        "\n",
        "\n",
        "5. JSON Support – Built-in support for returning JSON responses (needed for APIs).\n",
        "\n",
        "\n",
        "6. Scalable – Suitable for small projects as well as large applications.\n",
        "\n",
        "\n",
        "7. Active Community – Lots of documentation and community support.\n",
        "\n",
        "\n",
        "\n"
      ],
      "metadata": {
        "id": "Uy_ZGr-iiBpK"
      }
    },
    {
      "cell_type": "markdown",
      "source": [
        "4.What is routing in Flask?\n",
        " - Routing is the process of mapping URLs to specific functions in a Flask app.\n",
        "Example:\n",
        "\n",
        "\n",
        "```\n",
        "# @app.route('/hello')\n",
        "def hello():\n",
        "    return \"Hello World!\"\n",
        "\n",
        "```\n",
        "\n",
        "Here, /hello URL is routed to the hello() function.\n",
        "\n"
      ],
      "metadata": {
        "id": "_NM9_xBoiHKo"
      }
    },
    {
      "cell_type": "markdown",
      "source": [
        "5.How do you create a simple Flask application?\n",
        "  - To create a basic Flask app, follow these steps:\n",
        "\n",
        "\n",
        "---\n",
        "\n",
        " Steps:\n",
        "\n",
        "1. Install Flask:\n",
        "\n",
        "\n",
        "\n",
        "pip install flask\n",
        "\n",
        "2. Create a Python file, e.g., app.py.\n",
        "\n",
        "\n",
        "3. Write this code:\n",
        "\n",
        "\n",
        "\n",
        "```\n",
        "# from flask import Flask   # import Flask\n",
        "\n",
        "# create Flask application object\n",
        "app = Flask(_name_)\n",
        "\n",
        "# define a route (URL) and a function\n",
        "@app.route('/')\n",
        "def home():\n",
        "    return \"Welcome to Flask!\"\n",
        "# run the application\n",
        "if _name_ == '_main_':\n",
        "    app.run(debug=True)\n",
        "```\n",
        "\n",
        "\n",
        "\n",
        "\n",
        "\n"
      ],
      "metadata": {
        "id": "-ysmbPvUiM2L"
      }
    },
    {
      "cell_type": "markdown",
      "source": [
        "6.What are HTTP methods used in RESTful APIs?\n",
        " - HTTP Methods in RESTful APIs\n",
        "\n",
        "RESTful APIs use HTTP methods to perform operations on resources (data).\n",
        "\n",
        " - GET – Retrieve data (read).\n",
        "\n",
        "Example: GET /users → fetch list of users.\n",
        "\n",
        "\n",
        "- POST – Create a new resource.\n",
        "\n",
        "Example: POST /users → add a new user.\n",
        "\n",
        "\n",
        " - PUT – Update an existing resource (replace fully).\n",
        "\n",
        "Example: PUT /users/1 → update user with ID 1.\n",
        "\n",
        "\n",
        " - PATCH – Partially update a resource.\n",
        "\n",
        "Example: PATCH /users/1 → update only certain fields.\n",
        "\n",
        "\n",
        " - DELETE – Remove a resource.\n",
        "\n",
        "Example: DELETE /users/1 → delete user with ID 1.\n",
        "\n",
        "\n"
      ],
      "metadata": {
        "id": "tKkYHd-YiRNi"
      }
    },
    {
      "cell_type": "markdown",
      "source": [
        "7.What is the purpose of the @app.route() decorator in Flask?\n",
        "  - The @app.route() decorator in Flask is used to map a URL path to a specific function in your application.\n",
        "\n",
        "When a client visits that URL, Flask runs the function and returns the response.\n",
        "\n",
        "It defines the route (URL path) for a function.\n",
        "\n",
        "It can specify HTTP methods:\n",
        "\n",
        "\n",
        "```\n",
        "# @app.route('/submit', methods=['POST'])\n",
        "```\n",
        "Makes the code cleaner and more readable.\n",
        "\n",
        "\n"
      ],
      "metadata": {
        "id": "DEht0-EMiXXS"
      }
    },
    {
      "cell_type": "markdown",
      "source": [
        "8.What is the difference between GET and POST HTTP methods?\n",
        "  -The fundamental difference between GET and POST HTTP methods lies in their purpose and how they handle data:\n",
        "# GET:\n",
        "- **Purpose**: Primarily used for retrieving data from a server. It is considered a \"safe\" and \"idempotent\" method, meaning it should not alter the server's state and repeated requests should yield the same result.\n",
        "- **Data Handling**: Parameters are appended to the URL as a query string (e.g., example.com/search?query=python). This makes the data visible in the URL, browser history, and server logs.\n",
        "- **Limitations**: Has a practical limit on the amount of data that can be sent due to URL length restrictions. Not suitable for sensitive data due to visibility.\n",
        "Caching: GET requests are generally cacheable by browsers and proxy servers, improving performance for repeated requests.\n",
        "# POST:\n",
        "- **Purpose**: Primarily used for submitting data to a server to create or update resources. It is not considered \"safe\" or \"idempotent\" as it can change the server's state, and repeated requests might lead to different outcomes (e.g., creating multiple entries).\n",
        "- **Data Handling**: Data is sent in the request body, not in the URL. This makes the data less visible and allows for larger amounts of data to be sent, including binary data like files.\n",
        "- **Limitations**: Generally not cacheable.\n",
        "Security: While data is not visible in the URL, POST requests are not inherently secure without encryption (HTTPS).\n",
        "  \n",
        "  \n",
        "\n",
        "```\n",
        "# In Python (using the requests library):\n",
        "Python\n",
        "\n",
        "import requests\n",
        "\n",
        "# GET request example\n",
        "response_get = requests.get('https://api.example.com/data', params={'id': 123})\n",
        "print(f\"GET status code: {response_get.status_code}\")\n",
        "print(f\"GET response data: {response_get.json()}\")\n",
        "\n",
        "# POST request example\n",
        "data_post = {'name': 'John Doe', 'email': 'john.doe@example.com'}\n",
        "response_post = requests.post('https://api.example.com/users', json=data_post)\n",
        "print(f\"POST status code: {response_post.status_code}\")\n",
        "print(f\"POST response data: {response_post.json()}\")\n",
        "```\n",
        "\n"
      ],
      "metadata": {
        "id": "95Egbh6xibC_"
      }
    },
    {
      "cell_type": "markdown",
      "source": [
        "9. How do you handle errors in Flask APIs?\n",
        "   - Flask allows you to define custom error handlers to return meaningful responses when something goes wrong.\n",
        "   Errors in Flask APIs are handled using custom error handlers with @app.errorhandler(), returning meaningful JSON responses and appropriate HTTP status codes.\n",
        "\n",
        "\n",
        "\n",
        "```\n",
        "# Example:\n",
        "\n",
        "from flask import Flask, jsonify\n",
        "\n",
        "app = Flask(__name__)\n",
        "\n",
        "# Custom handler for 404 Not Found\n",
        "@app.errorhandler(404)\n",
        "def not_found(error):\n",
        "    return jsonify({\"error\": \"Resource not found\"}), 404\n",
        "\n",
        "# Custom handler for 500 Internal Server Error\n",
        "@app.errorhandler(500)\n",
        "def server_error(error):\n",
        "    return jsonify({\"error\": \"Internal server error\"}), 500\n",
        "```\n",
        "\n",
        " key point:\n",
        "- Use @app.errorhandler(status_code) to handle specific HTTP errors.\n",
        "\n",
        " - Return a JSON response and proper HTTP status code.\n",
        "\n",
        "- Helps clients understand what went wrong.\n"
      ],
      "metadata": {
        "id": "sALltMJhigjh"
      }
    },
    {
      "cell_type": "markdown",
      "source": [
        "10. How do you connect Flask to a SQL database?\n",
        "    - Flask can connect to SQL databases using the Flask-SQLAlchemy extension.\n",
        "\n",
        "  Steps:\n",
        "\n",
        "1. Install Flask-SQLAlchemy:\n",
        "\n",
        "\n",
        "\n",
        "```\n",
        "# pip install flask-sqlalchemy\n",
        "```\n",
        "\n",
        "2. Configure and connect in your Flask app:\n",
        "\n",
        "\n",
        "```\n",
        "# from flask import Flask\n",
        "from flask_sqlalchemy import SQLAlchemy\n",
        "\n",
        "app = Flask(__name__)\n",
        "# Database URI (example: SQLite)\n",
        "app.config['SQLALCHEMY_DATABASE_URI'] = 'sqlite:///test.db'\n",
        "app.config['SQLALCHEMY_TRACK_MODIFICATIONS'] = False\n",
        "\n",
        "db = SQLAlchemy(app) # Initialize the database\n",
        "```\n",
        "3. Define a model (table structure):\n",
        "\n",
        "\n",
        "\n",
        "```\n",
        "# class User(db.Model):\n",
        "    id = db.Column(db.Integer, primary_key=True)\n",
        "    name = db.Column(db.String(50), nullable=False)\n",
        "\n",
        "# Create tables\n",
        "with app.app_context():\n",
        "    db.create_all()\n",
        "```\n",
        "Key Points:\n",
        "\n",
        "- SQLALCHEMY_DATABASE_URI defines the database connection.\n",
        "\n",
        "- db.create_all() creates tables based on models.\n",
        "\n",
        "- You can use db.session.add() and db.session.commit() to insert data.\n",
        "\n",
        "In short:Flask connects to a SQL database using Flask-SQLAlchemy, by configuring SQLALCHEMY_DATABASE_URI, initializing SQLAlchemy(app), and defining models for database tables.\n",
        "\n",
        "\n"
      ],
      "metadata": {
        "id": "PPIyJjkYinSy"
      }
    },
    {
      "cell_type": "markdown",
      "source": [
        "11.What is the role of Flask-SQLAlchemy?\n",
        "   - Flask-SQLAlchemy is an extension for Flask that simplifies working with SQL databases.\n",
        "\n",
        "It provides an Object Relational Mapper (ORM), allowing you to interact with the database using Python classes and objects instead of writing raw SQL queries.\n",
        "\n",
        " Key Roles:\n",
        "\n",
        "1. Simplifies database operations (CRUD: Create, Read, Update, Delete).\n",
        "\n",
        "2. Manages database connections and sessions automatically.\n",
        "\n",
        "3. Provides models to define tables as Python classes.\n",
        "\n",
        "4. Supports multiple databases (SQLite, MySQL, PostgreSQL, etc.).\n",
        " In short: Flask-SQLAlchemy provides an ORM for Flask, making it easy to work with databases using Python classes instead of raw SQL.\n"
      ],
      "metadata": {
        "id": "ipOmxBzJiq97"
      }
    },
    {
      "cell_type": "markdown",
      "source": [
        "12.What are Flask blueprints, and how are they useful?\n",
        "   - Flask Blueprints are a mechanism within the Flask web framework that allows for the organization of an application into modular, reusable components. Instead of defining all routes, templates, and static files directly within a single Flask application instance, blueprints encapsulate these elements into self-contained units.\n",
        " -  **Flask Blueprints are Useful:**\n",
        "      - *Modularity and Organization*:\n",
        "Blueprints enable the logical grouping of related functionalities, such as an authentication system, an administrative panel, or a user profile section. This breaks down a large application into smaller, more manageable parts, improving code readability and maintainability.\n",
        "      - *Reusability*:\n",
        "A significant advantage of blueprints is their reusability. A blueprint developed for a specific feature, like a contact form or a set of icons, can be easily integrated into multiple Flask applications without significant modification.\n",
        "      - *Scalability*:\n",
        "As an application grows, managing all its components in a single file becomes challenging. Blueprints facilitate scaling by allowing different teams or developers to work on distinct parts of the application concurrently without interfering with each other's code.\n",
        "    - *Clear Separation of Concerns*:\n",
        "Blueprints enforce a clear separation of concerns by allowing each module to manage its own routes, templates, and static files, leading to a more structured and understandable codebase.\n",
        "     - *Simplified Development and Testing*:\n",
        "With modular components, individual blueprints can be developed and tested in isolation before being registered with the main application, simplifying the development and debugging process."
      ],
      "metadata": {
        "id": "IliG-7GGiw3Q"
      }
    },
    {
      "cell_type": "markdown",
      "source": [
        "13. What is the purpose of Flask's request object?\n",
        "    - The request object in Flask represents the incoming HTTP request from a client. It is used to access data sent by the client, such as query parameters, form data, JSON payloads, headers, and cookies.\n",
        "    Common Uses:\n",
        " from flask import Flask, request, jsonify\n",
        " app = Flask(__name__)\n",
        "\n",
        "@app.route('/submit', methods=['POST'])\n",
        "def submit():\n",
        "   \n",
        "\n",
        "```\n",
        "# Access JSON data from POST request\n",
        "    data = request.json\n",
        "    # Access query parameters\n",
        "    param = request.args.get('param')\n",
        "    # Access form data\n",
        "    name = request.form.get('name')\n",
        "    return jsonify({\"received_data\": data, \"param\": param, \"name\": name})\n",
        "```\n",
        "Key Points:\n",
        "\n",
        "- request.args → query parameters in URL\n",
        "\n",
        "- request.form → form data from HTML forms\n",
        "\n",
        "- request.json → JSON body\n",
        "\n",
        "- request.headers → HTTP headers\n"
      ],
      "metadata": {
        "id": "BqGQvgyZi1Hp"
      }
    },
    {
      "cell_type": "markdown",
      "source": [
        "14.How do you create a RESTful API endpoint using Flask?\n",
        "   - A RESTful API endpoint is created by defining a route in Flask and specifying HTTP methods.\n",
        "\n",
        "The endpoint usually returns JSON responses using jsonify().\n",
        "Example:\n",
        "\n",
        "\n",
        "```\n",
        "# from flask import Flask, jsonify, request\n",
        "\n",
        "app = Flask(__name__)\n",
        "\n",
        "# GET endpoint\n",
        "@app.route('/api/users', methods=['GET'])\n",
        "def get_users():\n",
        "    users = [{\"id\": 1, \"name\": \"Alice\"}, {\"id\": 2, \"name\": \"Bob\"}]\n",
        "    return jsonify(users)\n",
        "\n",
        "# POST endpoint\n",
        "@app.route('/api/users', methods=['POST'])\n",
        "def create_user():\n",
        "    data = request.json\n",
        "    return jsonify({\"message\": \"User created\", \"user\": data}), 201\n",
        "```\n",
        "Key Points:\n",
        "\n",
        "- Use @app.route('/endpoint', methods=[...]) to define the endpoint.\n",
        "\n",
        "- Use request to access incoming data (for POST, PUT, PATCH).\n",
        "\n",
        "- Use jsonify() to return JSON responses.\n",
        "\n",
        "- Return proper HTTP status codes (e.g., 200, 201, 400).\n",
        "\n"
      ],
      "metadata": {
        "id": "9Vc-BLndi7u6"
      }
    },
    {
      "cell_type": "markdown",
      "source": [
        "15.What is the purpose of Flask's jsonify() function?\n",
        "  - The jsonify() is used to convert Python data structures (dict, list) into a JSON response.It automatically sets the Content-Type header to application/json, which tells the client that the response is JSON.\n",
        "Example:\n",
        "\n",
        "\n",
        "```\n",
        "# from flask import Flask, jsonify\n",
        "\n",
        "app = Flask(__name__)\n",
        "\n",
        "@app.route('/api/data')\n",
        "def get_data():\n",
        "    data = {\"name\": \"Alice\", \"age\": 25}\n",
        "    return jsonify(data) # returns JSON response\n",
        "```\n",
        "\n",
        "Key Points:\n",
        "\n",
        "- Makes API responses standardized and client-friendly.\n",
        "- Can also include HTTP status codes:\n",
        "- return jsonify({\"message\": \"Created\"}), 201"
      ],
      "metadata": {
        "id": "tXgwlCdei_Nx"
      }
    },
    {
      "cell_type": "markdown",
      "source": [
        "16.Explain Flask’s url_for() function.\n",
        "   - In Flask, the url_for() function is a powerful helper function used to dynamically build URLs for specific functions or static files within your application. Flask’s url_for() Function url_for() is used to generate URLs dynamically for routes in a Flask application.Instead of hardcoding URLs, you pass the function name (endpoint) and any required parameters.\n",
        "This makes your app more flexible — if routes change, you don’t need to update links everywhere.\n",
        "\n",
        "\n",
        "\n",
        "```\n",
        "# from flask import render_template\n",
        "\n",
        "@app.route('/dashboard')\n",
        "def dashboard():\n",
        "    return render_template('dashboard.html')\n",
        "\n",
        "In templates/dashboard.html:\n",
        "\n",
        "<a href=\"{{ url_for('home') }}\">Go to Home</a>\n",
        "<a href=\"{{ url_for('profile', username='Alice') }}\">Alice's Profile</a>\n",
        "\n",
        "```\n",
        "In short: The url_for() function in Flask is used to generate URLs dynamically for routes by referring to the function name instead of hardcoding paths. This improves maintainability and avoids broken links when routes change.\n",
        "\n"
      ],
      "metadata": {
        "id": "PaveSvZTjGBY"
      }
    },
    {
      "cell_type": "markdown",
      "source": [
        "17.How does Flask handle static files (CSS, JavaScript, etc.)?  \n",
        "   -Flask automatically serves static files (like CSS, JavaScript, images) from a folder named static.\n",
        "We can reference these files in templates using url_for('static', filename='...').\n",
        "\n",
        "Example:\n",
        "```\n",
        "# Folder structure:\n",
        "\n",
        "project/\n",
        "│\n",
        "├── app.py\n",
        "├── static/\n",
        "│ ├── style.css\n",
        "│ └── script.js\n",
        "└── templates/\n",
        "    └── index.html\n",
        "\n",
        "In index.html:\n",
        "\n",
        "<link rel=\"stylesheet\" href=\"{{ url_for('static', filename='style.css') }}\">\n",
        "<script src=\"{{ url_for('static', filename='script.js') }}\"></script>\n",
        "```\n",
        "Key Points:\n",
        "\n",
        "- static/ is the default folder for static files.\n",
        "\n",
        "- url_for('static', filename='...') generates the correct URL.\n",
        "\n",
        "- Helps serve front-end assets efficiently without writing custom routes.\n",
        "\n",
        "In short: Flask serves static files from the static/ folder, and url_for('static', filename='...') is used to reference them in templates.\n",
        "\n"
      ],
      "metadata": {
        "id": "J73m7cZejN-v"
      }
    },
    {
      "cell_type": "markdown",
      "source": [
        "18.What is an API specification, and how does it help in building a Flask API?\n",
        "   - An API specification is a formal blueprint describing how an API works.\n",
        "\n",
        "It defines:\n",
        "\n",
        "Endpoints and URLs\n",
        "\n",
        "HTTP methods (GET, POST, etc.)\n",
        "\n",
        "Request parameters and body\n",
        "\n",
        "Response formats and status codes\n",
        "\n",
        "Authentication requirements\n",
        "\n",
        " It helps in Flask API development:\n",
        "  -  Clarity & Consistency – Backend and frontend developers know exactly how the API behaves.\n",
        "\n",
        " - Documentation & Testing – Tools like Swagger/OpenAPI can generate docs and test endpoints automatically.\n",
        "\n",
        "- Reduces Errors – Ensures correct input/output formats and HTTP status codes.\n",
        "\n",
        "-  Speeds Development – Provides a blueprint for coding Flask routes and responses.\n"
      ],
      "metadata": {
        "id": "W_Tf3CXwjXj0"
      }
    },
    {
      "cell_type": "markdown",
      "source": [
        "19. What are HTTP status codes, and why are they important in a Flask API?\n",
        "   - HTTP status codes are 3-digit codes sent by the server in response to a client request.\n",
        "They indicate whether the request was successful, failed, or requires further action.\n",
        "\n",
        " - Common Status Codes:\n",
        "\n",
        "Code Meaning Example in Flask\n",
        "\n",
        "200 OK (success) Returning data successfully\n",
        "201 Created Resource created via POST\n",
        "400 Bad Request Invalid input sent by client\n",
        "401 Unauthorized Authentication required\n",
        "404 Not Found Requested resource does not exist\n",
        "500 Internal Server Error Server-side error\n",
        "\n",
        " - **Its Importance in Flask API:**\n",
        "\n",
        "    - Communicates success or failure to clients.\n",
        "    - Helps debug issues and handle responses programmatically.\n",
        "     - Ensures RESTful principles are followed.\n",
        " In short: HTTP status codes are numeric responses from the server indicating success, failure, or errors, and they are important for communicating request results in a Flask API.\n"
      ],
      "metadata": {
        "id": "3tStCDbrjg5M"
      }
    },
    {
      "cell_type": "markdown",
      "source": [
        "20.How do you handle POST requests in Flask?\n",
        "   - POST requests are used to send data to the server to create a resource.\n",
        "\n",
        "Flask handles POST data using the request object.\n",
        "Example:\n",
        "\n",
        "\n",
        "```\n",
        "# from flask import Flask, request, jsonify\n",
        "\n",
        "app = Flask(__name__)\n",
        "\n",
        "@app.route('/api/users', methods=['POST'])\n",
        "def create_user():\n",
        "    data = request.json # Get JSON data from request body\n",
        "    # Example: {\"name\": \"Alice\", \"age\": 25}\n",
        "    # You could save data to database here\n",
        "    return jsonify({\"message\": \"User created\", \"user\": data}), 201\n",
        "```\n",
        "Key Points:\n",
        "\n",
        "- Use methods=['POST'] in @app.route().\n",
        "\n",
        "- Access request data with request.json (JSON) or request.form (form data).\n",
        "\n",
        "- Return JSON response using jsonify() and appropriate status code (e.g., 201 for creation).\n"
      ],
      "metadata": {
        "id": "LnmptvqSjoYn"
      }
    },
    {
      "cell_type": "markdown",
      "source": [
        "21. How would you secure a Flask API?\n",
        "    - Securing a Flask API ensures that only authorized clients can access resources and that data remains safe.\n",
        "\n",
        " - ** Common Security Measures:**\n",
        "\n",
        "1. Authentication & Authorization:\n",
        "Use JWT (JSON Web Tokens) or OAuth2 to verify users.\n",
        "Example: Only logged-in users can access certain endpoints.\n",
        "\n",
        "2. HTTPS / SSL:\n",
        "Encrypt data in transit using HTTPS instead of HTTP.\n",
        "\n",
        "3. Input Validation & Sanitization:\n",
        "Prevent attacks like SQL Injection or XSS by validating user input.\n",
        "\n",
        "4. Rate Limiting:\n",
        "Prevent abuse by limiting the number of requests per client.\n",
        "\n",
        "5. CORS (Cross-Origin Resource Sharing):\n",
        "Control which domains can access your API.\n",
        "\n",
        "\n",
        "6. Secure Headers:\n",
        "Use libraries like Flask-Talisman to add security headers.\n",
        "\n",
        " In short: A Flask API can be secured using authentication, HTTPS, input validation, rate limiting, CORS, and secure headers to protect data and restrict access.\n"
      ],
      "metadata": {
        "id": "Fol1HtE6j4UZ"
      }
    },
    {
      "cell_type": "markdown",
      "source": [
        "22. What is the significance of the Flask-RESTful extension?\n",
        "    - Flask-RESTful is an extension for building REST APIs in Flask more easily.\n",
        "\n",
        "It provides tools for creating API resources, handling requests, and formatting responses.\n",
        "\n",
        " **Key Features:**\n",
        "\n",
        " -  Resource Classes: Define endpoints as Python classes.\n",
        "\n",
        " -  Request Parsing: Simplifies extracting and validating input data.\n",
        "\n",
        "-  Automatic JSON Response: Converts dictionaries to JSON.\n",
        "\n",
        "-  Error Handling: Built-in support for common API errors.\n",
        " In short: Flask-RESTful simplifies building REST APIs in Flask by providing resource classes, request parsing, JSON responses, and error handling, making API development faster and clean."
      ],
      "metadata": {
        "id": "u3a5gVPOj81f"
      }
    },
    {
      "cell_type": "markdown",
      "source": [
        "23. What is the role of Flask’s session object?\n",
        "   -  The Role of Flask’s session Object\n",
        "The session object in Flask is used to store data specific to a user across multiple requests.\n",
        "It allows you to remember information like login status, user preferences, or temporary data without storing it in the URL.\n",
        "Data in session is stored on the client-side in a secure, signed cookie, preventing tampering.\n",
        " Example:\n",
        "\n",
        "```\n",
        "# from flask import Flask, session, redirect, url_for, request\n",
        "\n",
        "app = Flask(__name__)\n",
        "app.secret_key = \"mysecretkey\" # required for session security\n",
        "\n",
        "@app.route('/login', methods=['POST'])\n",
        "def login():\n",
        "    username = request.form['username']\n",
        "    session['username'] = username # store user in session\n",
        "    return f\"Logged in as {username}\"\n",
        "\n",
        "@app.route('/profile')\n",
        "def profile():\n",
        "    if 'username' in session:\n",
        "        return f\"Welcome, {session['username']}!\"\n",
        "    else:\n",
        "        return \"You are not logged in.\"\n",
        "```\n",
        "\n",
        "Key Points:\n",
        "\n",
        "- session['key'] = value → store data\n",
        "\n",
        "- session.pop('key', None) → remove data\n",
        "\n",
        "- Requires app.secret_key for security\n",
        "\n",
        "Data persists across requests until the user closes the browser or the session is cleared\n",
        "\n",
        " In short: The session object in Flask is used to store user-specific data across requests in a secure cookie, enabling features like login sessions and user preferences.\n",
        "\n",
        "\n",
        "\n"
      ],
      "metadata": {
        "id": "fUNBUL5pkHmd"
      }
    },
    {
      "cell_type": "markdown",
      "source": [
        "#Practical"
      ],
      "metadata": {
        "id": "-HWyIpyBkMUm"
      }
    },
    {
      "cell_type": "markdown",
      "source": [
        "1.How do you create a basic Flask application?"
      ],
      "metadata": {
        "id": "tDPGHizOkR_S"
      }
    },
    {
      "cell_type": "code",
      "source": [
        "from flask import Flask\n",
        "\n",
        "app = Flask(__name__)\n",
        "\n",
        "@app.route('/')\n",
        "def home():\n",
        "    return \"Hello, Flask!\"\n",
        "\n",
        "if __name__ == '__main__':\n",
        "    app.run(debug=True)"
      ],
      "metadata": {
        "id": "JZcgsZOIbp8W"
      },
      "execution_count": null,
      "outputs": []
    },
    {
      "cell_type": "markdown",
      "source": [
        "2.How do you serve static files like images or CSS in Flask?"
      ],
      "metadata": {
        "id": "-SHymMRTkmV7"
      }
    },
    {
      "cell_type": "code",
      "source": [
        "# Serve Images / CSS from static/ folder\n",
        "\n",
        "# Project structure:\n",
        "\n",
        "flask_static_demo/\n",
        " ├── app.py\n",
        " ├── static/\n",
        " │ ├── logo.png\n",
        " │ └── style.css\n",
        " └── templates/\n",
        "     └── index.html\n",
        "\n",
        "app.py\n",
        "\n",
        "from flask import Flask, render_template\n",
        "\n",
        "app = Flask(__name__)\n",
        "\n",
        "@app.route('/')\n",
        "def home():\n",
        "    return render_template(\"index.html\")\n",
        "    if __name__ == '__main__':\n",
        "    app.run(debug=True)\n",
        "\n",
        "templates/index.html\n",
        "\n",
        "<!DOCTYPE html>\n",
        "<html>\n",
        "<head>\n",
        "    <title>Static File Example</title>\n",
        "    <!-- Linking CSS from static folder -->\n",
        "    <link rel=\"stylesheet\" href=\"{{ url_for('static', filename='style.css') }}\">\n",
        "</head>\n",
        "<body>\n",
        "    <h1>Serving Static Files in Flask</h1>\n",
        "\n",
        "    <!-- Loading image from static folder -->\n",
        "    <img src=\"{{ url_for('static', filename='logo.png') }}\" alt=\"Logo\" width=\"200\">\n",
        "</body>\n",
        "</html>\n",
        "\n",
        " Run → Visit http://127.0.0.1:5000/ → You’ll see the image and CSS applied."
      ],
      "metadata": {
        "id": "-Au6qAvEwsH3"
      },
      "execution_count": null,
      "outputs": []
    },
    {
      "cell_type": "markdown",
      "source": [
        "3.How do you define different routes with different HTTP methods in Flask?"
      ],
      "metadata": {
        "id": "Bv0SkQ9lknix"
      }
    },
    {
      "cell_type": "code",
      "source": [
        "from flask import request\n",
        "\n",
        "@app.route('/submit', methods=['GET', 'POST'])\n",
        "def submit():\n",
        "    if request.method == 'POST':\n",
        "        return \"Form Submitted!\"\n",
        "    else:\n",
        "        return \"Please submit the form.\""
      ],
      "metadata": {
        "id": "JdJiWo-1b2W4"
      },
      "execution_count": null,
      "outputs": []
    },
    {
      "cell_type": "markdown",
      "source": [
        "4. How do you render HTML templates in Flask?"
      ],
      "metadata": {
        "id": "_Xn2o4tUkrCt"
      }
    },
    {
      "cell_type": "code",
      "source": [
        "from flask import render_template\n",
        "\n",
        "@app.route('/home')\n",
        "def home():\n",
        "    return render_template('index.html') # index.html in templates/"
      ],
      "metadata": {
        "id": "WkbLqrS6b8xW"
      },
      "execution_count": null,
      "outputs": []
    },
    {
      "cell_type": "markdown",
      "source": [
        "5. How can you generate URLs for routes in Flask using url_for?"
      ],
      "metadata": {
        "id": "Fgpdu7i6kumw"
      }
    },
    {
      "cell_type": "code",
      "source": [
        "from flask import url_for\n",
        "\n",
        "@app.route('/profile/<username>')\n",
        "def profile(username):\n",
        "    return f\"Profile page of {username}\"\n",
        "\n",
        "with app.test_request_context():\n",
        "    print(url_for('profile', username='Alice')) # Output: /profile/Alice"
      ],
      "metadata": {
        "id": "vI6zZrIPcBX9"
      },
      "execution_count": null,
      "outputs": []
    },
    {
      "cell_type": "markdown",
      "source": [
        "6. How do you handle forms in Flask?"
      ],
      "metadata": {
        "id": "KnN_6lRvk86N"
      }
    },
    {
      "cell_type": "code",
      "source": [
        "from flask import request\n",
        "\n",
        "@app.route('/login', methods=['GET', 'POST'])\n",
        "def login():\n",
        "    if request.method == 'POST':\n",
        "        username = request.form['username']\n",
        "        return f\"Welcome {username}\"\n",
        "    return '''\n",
        "        <form method=\"post\">\n",
        "            <input type=\"text\" name=\"username\">\n",
        "            <input type=\"submit\" value=\"Login\">\n",
        "        </form>\n",
        "    '''"
      ],
      "metadata": {
        "id": "2jHQ7xo3cC6F"
      },
      "execution_count": null,
      "outputs": []
    },
    {
      "cell_type": "markdown",
      "source": [
        "7. How can you validate form data in Flask?"
      ],
      "metadata": {
        "id": "p-SvhZxdlF58"
      }
    },
    {
      "cell_type": "code",
      "source": [
        "@app.route('/register', methods=['POST'])\n",
        "def register():\n",
        "    username = request.form.get('username')\n",
        "    if not username:\n",
        "        return \"Username required\", 400\n",
        "    return f\"Registered {username}\"\n"
      ],
      "metadata": {
        "id": "62pSByZRdWNY"
      },
      "execution_count": null,
      "outputs": []
    },
    {
      "cell_type": "markdown",
      "source": [
        "8. How do you manage sessions in Flask?"
      ],
      "metadata": {
        "id": "3_R1SbWxlPWm"
      }
    },
    {
      "cell_type": "code",
      "source": [
        "from flask import session\n",
        "\n",
        "app.secret_key = \"mysecret\"\n",
        "\n",
        "@app.route('/set')\n",
        "def set_session():\n",
        "    session['user'] = 'Alice'\n",
        "    return \"Session set!\"\n",
        "\n",
        "@app.route('/get')\n",
        "def get_session():\n",
        "    return session.get('user', 'Not logged in')\n"
      ],
      "metadata": {
        "id": "JxWZirn4dnyE"
      },
      "execution_count": null,
      "outputs": []
    },
    {
      "cell_type": "markdown",
      "source": [
        "9.How do you redirect to a different route in Flask?"
      ],
      "metadata": {
        "id": "nZJnZxSylSgG"
      }
    },
    {
      "cell_type": "code",
      "source": [
        "from flask import redirect, url_for\n",
        "\n",
        "@app.route('/old')\n",
        "def old():\n",
        "    return redirect(url_for('new'))\n",
        "\n",
        "@app.route('/new')\n",
        "def new():\n",
        "    return \"New Page\""
      ],
      "metadata": {
        "id": "mwjjENXfeGhr"
      },
      "execution_count": null,
      "outputs": []
    },
    {
      "cell_type": "markdown",
      "source": [
        "10.How do you handle errors in Flask (e.g., 404)?"
      ],
      "metadata": {
        "id": "Ox5TjV4ilW9B"
      }
    },
    {
      "cell_type": "code",
      "source": [
        "@app.errorhandler(404)\n",
        "def page_not_found(e):\n",
        "    return \"Custom 404 Page\", 404"
      ],
      "metadata": {
        "id": "6U1n67umunxo"
      },
      "execution_count": null,
      "outputs": []
    },
    {
      "cell_type": "markdown",
      "source": [
        "11. How do you structure a Flask app using Blueprints?"
      ],
      "metadata": {
        "id": "v6-3UZdIldxi"
      }
    },
    {
      "cell_type": "code",
      "source": [
        "from flask import Blueprint\n",
        "\n",
        "auth_bp = Blueprint('auth', __name__)\n",
        "\n",
        "@auth_bp.route('/login')\n",
        "def login():\n",
        "    return \"Login Page\"\n",
        "\n",
        "# Register in app\n",
        "app.register_blueprint(auth_bp, url_prefix='/auth')"
      ],
      "metadata": {
        "id": "n6S-wXpdeO62"
      },
      "execution_count": null,
      "outputs": []
    },
    {
      "cell_type": "markdown",
      "source": [
        "12. How do you define a custom Jinja filter in Flask?"
      ],
      "metadata": {
        "id": "Dek2ZmSXlfWQ"
      }
    },
    {
      "cell_type": "code",
      "source": [
        "@app.template_filter('reverse')\n",
        "def reverse_filter(s):\n",
        "    return s[::-1]\n",
        "\n",
        "@app.route('/show')\n",
        "def show():\n",
        "    return render_template('show.html', text=\"Flask\")\n",
        "\n",
        "In show.html:\n",
        "\n",
        "<p>{{ text|reverse }}</p>  <!-- Output: ksalf -->"
      ],
      "metadata": {
        "id": "zaENaNVLeT2y"
      },
      "execution_count": null,
      "outputs": []
    },
    {
      "cell_type": "markdown",
      "source": [
        "13. How can you redirect with query parameters in Flask?"
      ],
      "metadata": {
        "id": "meI3R_M5ljTK"
      }
    },
    {
      "cell_type": "code",
      "source": [
        "@app.route('/go')\n",
        "def go():\n",
        "    return redirect(url_for('target', q='hello'))\n",
        "\n",
        "@app.route('/target')\n",
        "def target():\n",
        "    return f\"Query param: {request.args.get('q')}\"\n",
        "\n"
      ],
      "metadata": {
        "id": "znDKRjNjeXhd"
      },
      "execution_count": null,
      "outputs": []
    },
    {
      "cell_type": "markdown",
      "source": [
        "14.How do you return JSON responses in Flask?"
      ],
      "metadata": {
        "id": "5YfmWt6qlnGl"
      }
    },
    {
      "cell_type": "code",
      "source": [
        "from flask import jsonify\n",
        "\n",
        "@app.route('/api/data')\n",
        "def data():\n",
        "    return jsonify({\"name\": \"Alice\", \"age\": 25})\n"
      ],
      "metadata": {
        "id": "hwXN5krpenFx"
      },
      "execution_count": null,
      "outputs": []
    },
    {
      "cell_type": "markdown",
      "source": [
        "15.How do you capture URL parameters in Flask?"
      ],
      "metadata": {
        "id": "UzJugvq2lquq"
      }
    },
    {
      "cell_type": "code",
      "source": [
        "@app.route('/user/<int:id>')\n",
        "def user_profile(id):\n",
        "    return f\"User ID: {id}\"\n",
        "\n",
        "Visiting /user/10 → Output: User ID: 10"
      ],
      "metadata": {
        "id": "HNkrJD5Oen4W"
      },
      "execution_count": null,
      "outputs": []
    },
    {
      "cell_type": "markdown",
      "source": [],
      "metadata": {
        "id": "qzex8kDply0H"
      }
    }
  ]
}